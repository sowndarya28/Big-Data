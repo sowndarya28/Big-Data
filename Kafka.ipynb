{
 "cells": [
  {
   "cell_type": "markdown",
   "id": "18a16779-514f-4ebc-89c3-28fdefbabc8c",
   "metadata": {},
   "source": [
    "Setting up a Kafka Producer:\n",
    "a) Python program to create a Kafka producer:"
   ]
  },
  {
   "cell_type": "markdown",
   "id": "1040cd91-c6de-42b5-ac77-baadf78c6ac2",
   "metadata": {},
   "source": [
    "from kafka import KafkaProducer\n",
    "\n",
    "# Create a Kafka producer\n",
    "producer = KafkaProducer(bootstrap_servers='localhost:9092')\n",
    "\n",
    "# Send messages to a Kafka topic\n",
    "topic = 'my_topic'\n",
    "message = b'Hello, Kafka!'\n",
    "producer.send(topic, message)\n"
   ]
  },
  {
   "cell_type": "markdown",
   "id": "0b750c44-8726-44d9-99ac-642f118b5bfd",
   "metadata": {},
   "source": [
    "Setting up a Kafka Consumer:\n",
    "a) Python program to create a Kafka consumer:"
   ]
  },
  {
   "cell_type": "markdown",
   "id": "155c309d-39a8-49f2-9d82-4ed1a58df0b4",
   "metadata": {},
   "source": [
    "from kafka import KafkaConsumer\n",
    "\n",
    "# Create a Kafka consumer\n",
    "consumer = KafkaConsumer('my_topic', bootstrap_servers='localhost:9092')\n",
    "\n",
    "# Consume messages from a Kafka topic\n",
    "for message in consumer:\n",
    "    print(message.value.decode())\n"
   ]
  },
  {
   "cell_type": "markdown",
   "id": "8ce7d57b-0ea1-4f80-ab6d-9145f2e90473",
   "metadata": {},
   "source": [
    "Creating and Managing Kafka Topics:\n",
    "a) Python program to create a new Kafka topic:\n",
    "\n"
   ]
  },
  {
   "cell_type": "markdown",
   "id": "fcaac502-e9ed-4393-a215-bd8977abda8f",
   "metadata": {},
   "source": [
    "from kafka import KafkaAdminClient, NewTopic\n",
    "\n",
    "# Create a Kafka admin client\n",
    "admin_client = KafkaAdminClient(bootstrap_servers='localhost:9092')\n",
    "\n",
    "# Create a new Kafka topic\n",
    "topic_name = 'my_topic'\n",
    "partitions = 1\n",
    "replication_factor = 1\n",
    "topic = NewTopic(name=topic_name, num_partitions=partitions, replication_factor=replication_factor)\n",
    "admin_client.create_topics([topic])\n"
   ]
  },
  {
   "cell_type": "markdown",
   "id": "1974b2da-5301-476f-b006-dd7d22892231",
   "metadata": {},
   "source": [
    "b) Functionality to list existing topics:\n",
    "\n"
   ]
  },
  {
   "cell_type": "markdown",
   "id": "a74a9f59-ab97-4ba2-8bbb-7ac5cff2051b",
   "metadata": {},
   "source": [
    "from kafka import KafkaAdminClient\n",
    "\n",
    "# Create a Kafka admin client\n",
    "admin_client = KafkaAdminClient(bootstrap_servers='localhost:9092')\n",
    "\n",
    "# List existing Kafka topics\n",
    "topics = admin_client.list_topics()\n",
    "for topic in topics:\n",
    "    print(topic)\n"
   ]
  },
  {
   "cell_type": "markdown",
   "id": "8a11171c-72af-4fdf-b558-68609632e300",
   "metadata": {},
   "source": [
    "c) Logic to delete an existing Kafka topic:"
   ]
  },
  {
   "cell_type": "markdown",
   "id": "f37d3be9-681e-4e46-8ce6-8ecca3e33d6b",
   "metadata": {},
   "source": [
    "from kafka import KafkaAdminClient\n",
    "\n",
    "# Create a Kafka admin client\n",
    "admin_client = KafkaAdminClient(bootstrap_servers='localhost:9092')\n",
    "\n",
    "# Delete an existing Kafka topic\n",
    "topic_name = 'my_topic'\n",
    "admin_client.delete_topics([topic_name])\n"
   ]
  },
  {
   "cell_type": "markdown",
   "id": "84679ba9-6771-4a8c-8d40-a285b138a3b4",
   "metadata": {},
   "source": [
    "Producing and Consuming Messages:\n",
    "a) Python program to produce messages to a Kafka topic:"
   ]
  },
  {
   "cell_type": "markdown",
   "id": "dc3c44ba-5d58-4a17-9b54-ac9174e5fba6",
   "metadata": {},
   "source": [
    "from kafka import KafkaProducer\n",
    "\n",
    "# Create a Kafka producer\n",
    "producer = KafkaProducer(bootstrap_servers='localhost:9092')\n",
    "\n",
    "# Send messages to a Kafka topic\n",
    "topic = 'my_topic'\n",
    "messages = [b'Message 1', b'Message 2', b'Message 3']\n",
    "for message in messages:\n",
    "    producer.send(topic, message)\n"
   ]
  },
  {
   "cell_type": "markdown",
   "id": "04b41584-a3d2-4924-9567-e20a0fe95eb9",
   "metadata": {},
   "source": [
    "b) Logic to consume messages from the same Kafka topic:"
   ]
  },
  {
   "cell_type": "markdown",
   "id": "24829db9-37d0-4d9e-a99a-2893c42d9832",
   "metadata": {},
   "source": [
    "from kafka import KafkaConsumer\n",
    "\n",
    "# Create a Kafka consumer\n",
    "consumer = KafkaConsumer('my_topic', bootstrap_servers='localhost:9092')\n",
    "\n",
    "# Consume messages from a Kafka topic\n",
    "for message in consumer:\n",
    "    print(message.value.decode())\n"
   ]
  },
  {
   "cell_type": "markdown",
   "id": "b9e6c8ff-d2ec-48f5-9ff7-991b8781ca5a",
   "metadata": {},
   "source": [
    "c) Testing the end-to-end flow of message production and consumption:\n",
    "\n",
    "Run the producer program (Step 4a) and then the consumer program (Step 4b) in separate terminals. The consumer will start consuming messages produced by the producer from the specified Kafka topic.\n",
    "\n",
    "Working with Kafka Consumer Groups:"
   ]
  },
  {
   "cell_type": "markdown",
   "id": "a0e6dcc3-095f-41c9-b1c6-cbb0635d1817",
   "metadata": {},
   "source": [
    "a) Python program to create a Kafka consumer within a consumer group:"
   ]
  },
  {
   "cell_type": "markdown",
   "id": "698c0345-91a8-473a-b3e5-c82652e8fed7",
   "metadata": {},
   "source": [
    "from kafka import KafkaConsumer\n",
    "\n",
    "# Create a Kafka consumer within a consumer group\n",
    "consumer = KafkaConsumer('my_topic', group_id='my_consumer_group', bootstrap_servers='localhost:9092')\n",
    "\n",
    "# Consume messages from a Kafka topic\n",
    "for message in consumer:\n",
    "    print(message.value.decode())\n"
   ]
  },
  {
   "cell_type": "code",
   "execution_count": null,
   "id": "2402be2c-20a5-4d00-9df7-9804c7e16851",
   "metadata": {},
   "outputs": [],
   "source": [
    "b) Logic to handle messages consumed by different consumers within the same group:\n",
    "\n",
    "When multiple consumers are part of the same consumer group, Kafka will automatically balance the message consumption among them. The logic to handle messages within the same group remains the same as the previous consumer example (Step 2a).\n",
    "\n",
    "c) Observing the behavior of consumer group rebalancing when adding or removing consumers:\n",
    "\n",
    "If you add or remove consumers within the same consumer group, Kafka will trigger a rebalance to redistribute the partitions among the consumers. The rebalancing process is automatic and handled by Kafka. You can observe the rebalancing behavior by starting or stopping additional consumers within the same consumer group and monitoring the partition assignment logs in the Kafka broker.\n",
    "\n",
    "R"
   ]
  }
 ],
 "metadata": {
  "kernelspec": {
   "display_name": "Python 3 (ipykernel)",
   "language": "python",
   "name": "python3"
  },
  "language_info": {
   "codemirror_mode": {
    "name": "ipython",
    "version": 3
   },
   "file_extension": ".py",
   "mimetype": "text/x-python",
   "name": "python",
   "nbconvert_exporter": "python",
   "pygments_lexer": "ipython3",
   "version": "3.10.6"
  }
 },
 "nbformat": 4,
 "nbformat_minor": 5
}
