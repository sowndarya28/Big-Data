{
 "cells": [
  {
   "cell_type": "markdown",
   "id": "71e414d1-3e01-43f4-b63d-138a66c06efb",
   "metadata": {},
   "source": [
    "1. NoSQL Databases:\n",
    "   a. Write a Python program that connects to a MongoDB database and inserts a new document into a collection named \"students\". The document should include fields such as \"name\", \"age\", and \"grade\". Print a success message after the insertion.\n",
    "   b. Implement a Python function that connects to a Cassandra database and inserts a new record into a table named \"products\". The record should contain fields like \"id\", \"name\", and \"price\". Handle any potential errors that may occur during the insertion.\n",
    "\n",
    "2. Document-oriented NoSQL Databases:\n",
    "   a. Given a MongoDB collection named \"books\", write a Python function that fetches all the books published in the last year and prints their titles and authors.\n",
    "   b. Design a schema for a document-oriented NoSQL database to store customer information for an e-commerce platform. Write a Python program to insert a new customer document into the database and handle any necessary validations.\n",
    "\n",
    "3. High Availability and Fault Tolerance:\n",
    "   a. Explain the concept of replica sets in MongoDB. Write a Python program that connects to a MongoDB replica set and retrieves the status of the primary and secondary nodes.\n",
    "   b. Describe how Cassandra ensures high availability and fault tolerance in a distributed database system. Write a Python program that connects to a Cassandra cluster and fetches the status of the nodes.\n",
    "\n",
    "4. Sharding in MongoDB:\n",
    "   a. Explain the concept of sharding in MongoDB and how it improves performance and scalability. Write a Python program that sets up sharding for a MongoDB cluster and inserts multiple documents into a sharded collection.\n",
    "   b. Design a sharding strategy for a social media application where user data needs to be distributed across multiple shards. Write a Python program to demonstrate how data is distributed and retrieved from the sharded cluster.\n",
    "\n",
    "5. Indexing in MongoDB:\n",
    "   a. Describe the concept of indexing in MongoDB and its importance in query optimization. Write a Python program that creates an index on a specific field in a MongoDB collection and executes a query using that index.\n",
    "   b. Given a MongoDB collection named \"products\", write a Python function that searches for products with a specific keyword in the name or description. Optimize the query by adding appropriate indexes.\n"
   ]
  },
  {
   "cell_type": "markdown",
   "id": "b2588295-2627-43a2-8be1-7c8c4c9396b1",
   "metadata": {},
   "source": [
    "\n",
    "NoSQL Databases:\n",
    "a. Here's a Python program that connects to a MongoDB database and inserts a new document into a collection named \"students"
   ]
  },
  {
   "cell_type": "markdown",
   "id": "9473dc8f-2485-4445-85e1-5fd96840afff",
   "metadata": {},
   "source": [
    "from pymongo import MongoClient\n",
    "\n",
    "# Connect to MongoDB\n",
    "client = MongoClient('mongodb://localhost:27017/')\n",
    "db = client['your_database_name']\n",
    "\n",
    "# Get the collection\n",
    "collection = db['students']\n",
    "\n",
    "# Create a new document\n",
    "document = {\n",
    "    'name': 'John Doe',\n",
    "    'age': 20,\n",
    "    'grade': 'A'\n",
    "}\n",
    "\n",
    "# Insert the document into the collection\n",
    "collection.insert_one(document)\n",
    "\n",
    "# Print success message\n",
    "print(\"Document inserted successfully.\")\n"
   ]
  },
  {
   "cell_type": "markdown",
   "id": "a127e06f-1c8d-47d4-8a97-7cd353fcb7ee",
   "metadata": {},
   "source": [
    "b. Here's a Python function that connects to a Cassandra database and inserts a new record into a table named \"products\":"
   ]
  },
  {
   "cell_type": "markdown",
   "id": "ce247bfb-d7c1-4b73-8639-86ed3d162bc7",
   "metadata": {},
   "source": [
    "from cassandra.cluster import Cluster\n",
    "from cassandra.query import SimpleStatement\n",
    "\n",
    "def insert_product(id, name, price):\n",
    "    # Connect to Cassandra\n",
    "    cluster = Cluster(['localhost'])\n",
    "    session = cluster.connect('your_keyspace_name')\n",
    "\n",
    "    # Prepare the query\n",
    "    query = f\"INSERT INTO products (id, name, price) VALUES ({id}, '{name}', {price})\"\n",
    "    statement = SimpleStatement(query)\n",
    "\n",
    "    try:\n",
    "        # Execute the query\n",
    "        session.execute(statement)\n",
    "        print(\"Record inserted successfully.\")\n",
    "    except Exception as e:\n",
    "        print(f\"Error occurred: {str(e)}\")\n",
    "\n",
    "    # Close the connection\n",
    "    cluster.shutdown()\n",
    "\n",
    "# Usage example\n",
    "insert_product(1, 'Product 1', 10.99)\n"
   ]
  },
  {
   "cell_type": "markdown",
   "id": "2cd308d8-cc04-4ac4-84be-e614cf4f0f94",
   "metadata": {},
   "source": [
    "Document-oriented NoSQL Databases:\n",
    "a. Here's a Python function that fetches all the books published in the last year from a MongoDB collection named \"books\" and prints their titles and authors:"
   ]
  },
  {
   "cell_type": "markdown",
   "id": "7a74cf6d-25b9-41f2-9c87-6366e8887bcc",
   "metadata": {},
   "source": [
    "from pymongo import MongoClient\n",
    "from datetime import datetime, timedelta\n",
    "\n",
    "def fetch_recent_books():\n",
    "    # Connect to MongoDB\n",
    "    client = MongoClient('mongodb://localhost:27017/')\n",
    "    db = client['your_database_name']\n",
    "\n",
    "    # Get the collection\n",
    "    collection = db['books']\n",
    "\n",
    "    # Calculate the date one year ago\n",
    "    one_year_ago = datetime.now() - timedelta(days=365)\n",
    "\n",
    "    # Build the query\n",
    "    query = {\n",
    "        'publication_date': {'$gte': one_year_ago}\n",
    "    }\n",
    "\n",
    "    # Fetch the books\n",
    "    books = collection.find(query)\n",
    "\n",
    "    # Print titles and authors\n",
    "    for book in books:\n",
    "        print(f\"Title: {book['title']}\")\n",
    "        print(f\"Author: {book['author']}\")\n",
    "        print(\"-----------\")\n",
    "\n",
    "# Usage example\n",
    "fetch_recent_books()\n"
   ]
  },
  {
   "cell_type": "markdown",
   "id": "03f9401c-9fc5-45de-b1e2-0453ac3f2689",
   "metadata": {},
   "source": [
    "b. Designing a schema for a document-oriented NoSQL database depends on the specific requirements and the structure of the data. Here's an example schema for an e-commerce platform to store customer information:"
   ]
  },
  {
   "cell_type": "markdown",
   "id": "bd2c137e-ecd0-43d5-8cba-397451b8bfd2",
   "metadata": {},
   "source": [
    "{\n",
    "    \"_id\": ObjectId,\n",
    "    \"name\": \"John Doe\",\n",
    "    \"email\": \"john@example.com\",\n",
    "    \"address\": {\n",
    "        \"street\": \"123 Main St\",\n",
    "        \"city\": \"New York\",\n",
    "        \"state\": \"NY\",\n",
    "        \"zip\": \"10001\"\n",
    "    },\n",
    "    \"phone\": \"+1 123-456-7890\",\n",
    "    \"orders\": [\n",
    "        {\n",
    "            \"order_id\": \"order_123\",\n",
    "            \"date\": ISODate(\"2022-07-01T00:00:00Z\"),\n",
    "            \"total_amount\": 99.99,\n",
    "            \"status\": \"completed\"\n",
    "        },\n",
    "        {\n",
    "            \"order_id\": \"order_456\",\n",
    "            \"date\": ISODate(\"2022-08-01T00:00:00Z\"),\n",
    "            \"total_amount\": 149.99,\n",
    "            \"status\": \"pending\"\n",
    "        }\n",
    "    ]\n",
    "}\n"
   ]
  },
  {
   "cell_type": "code",
   "execution_count": null,
   "id": "13ed74dd-eacb-4bb4-ac4c-21684b75d3b2",
   "metadata": {},
   "outputs": [],
   "source": []
  }
 ],
 "metadata": {
  "kernelspec": {
   "display_name": "Python 3 (ipykernel)",
   "language": "python",
   "name": "python3"
  },
  "language_info": {
   "codemirror_mode": {
    "name": "ipython",
    "version": 3
   },
   "file_extension": ".py",
   "mimetype": "text/x-python",
   "name": "python",
   "nbconvert_exporter": "python",
   "pygments_lexer": "ipython3",
   "version": "3.10.6"
  }
 },
 "nbformat": 4,
 "nbformat_minor": 5
}
