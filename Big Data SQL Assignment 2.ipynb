{
 "cells": [
  {
   "cell_type": "markdown",
   "id": "b6b3457a",
   "metadata": {},
   "source": [
    "1. Write an SQL query to retrieve the names and email addresses of all employees from a table named \"Employees\".\n",
    "2. Write an SQL query to filter records from a table named \"Customers\" where the \"City\" column is 'New York'.\n",
    "3. Write an SQL query to sort records in descending order based on the \"DateOfBirth\" column in a table named \"Users\".\n",
    "4. Write an SQL query to sort records in ascending order based on the \"RegistrationDate\" column in a table named \"Users\".\n",
    "5. Write an SQL query to find the employee with the highest salary from a table named \"Employees\" and display their name, position, and salary.\n",
    "6. Write an SQL query to retrieve records from a table named \"Customers\" where the \"Phone\" column matches the pattern '+1-XXX-XXX-XXXX'.\n",
    "7. Write an SQL query to retrieve the top 5 customers with the highest total purchase amount from a table named \"Orders\" and display their names and total purchase amounts.\n",
    "8. Write an SQL query to calculate the percentage of sales for each product category in a table named \"Sales\" and display the category name, total sales amount, and the percentage of total sales.\n",
    "9. Write an SQL query to find the customers who have made the highest total purchases across all years from a table named \"Orders\" and display their names, email addresses, and the total purchase amount.\n"
   ]
  },
  {
   "cell_type": "markdown",
   "id": "5a0e286b",
   "metadata": {},
   "source": [
    "1.SELECT name, email FROM Employees;\n",
    "2.SELECT * FROM Customers WHERE City = 'New York';\n",
    "3.SELECT * FROM Users ORDER BY DateOfBirth DESC;\n",
    "4.SELECT * FROM Users ORDER BY RegistrationDate ASC;\n",
    "5.SELECT name, position, salary FROM Employees WHERE salary = (SELECT MAX(salary) FROM Employees);\n",
    "6.SELECT * FROM Customers WHERE Phone LIKE '+1-___-___-____';\n",
    "7.SELECT Customers.name, SUM(Orders.purchase_amount) AS total_purchase\n",
    "FROM Orders\n",
    "JOIN Customers ON Orders.customer_id = Customers.id\n",
    "GROUP BY Customers.name\n",
    "ORDER BY total_purchase DESC\n",
    "LIMIT 5;\n",
    "\n",
    "8.SELECT category, SUM(sales_amount) AS total_sales,\n",
    "       (SUM(sales_amount) / (SELECT SUM(sales_amount) FROM Sales)) * 100 AS percentage\n",
    "FROM Sales\n",
    "GROUP BY category;\n",
    "9.SELECT Customers.name, Customers.email, SUM(Orders.purchase_amount) AS total_purchase\n",
    "FROM Orders\n",
    "JOIN Customers ON Orders.customer_id = Customers.id\n",
    "GROUP BY Customers.name, Customers.email\n",
    "HAVING SUM(Orders.purchase_amount) = (SELECT MAX(total_purchase) FROM (SELECT SUM(purchase_amount) AS total_purchase FROM Orders GROUP BY customer_id) AS subquery);\n"
   ]
  }
 ],
 "metadata": {
  "kernelspec": {
   "display_name": "Python 3 (ipykernel)",
   "language": "python",
   "name": "python3"
  },
  "language_info": {
   "codemirror_mode": {
    "name": "ipython",
    "version": 3
   },
   "file_extension": ".py",
   "mimetype": "text/x-python",
   "name": "python",
   "nbconvert_exporter": "python",
   "pygments_lexer": "ipython3",
   "version": "3.10.9"
  }
 },
 "nbformat": 4,
 "nbformat_minor": 5
}
