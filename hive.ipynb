{
 "cells": [
  {
   "cell_type": "markdown",
   "id": "8f6635ab-454d-4bd8-8aa0-958c971ec7b7",
   "metadata": {},
   "source": [
    "1.  Write a Python program that uses the HiveQL language to create a table named \"Employees\" with columns for \"id,\" \"name,\" and \"salary.\"\n",
    "2.  Create a Python program that retrieves records from a Hive table named \"Customers\" where the age is greater than 30.\n",
    "3.  Write a Python script that sorts records in descending order based on the \"timestamp\" column in a Hive table named \"Logs.\"\n",
    "4.  Write a Python program that connects to a Hive server using PyHive library and retrieves all records from a table named \"Products\".\n",
    "5.  Write a Python script that calculates the average salary of employees from a Hive table named \"Employees\".\n",
    "6.  Implement a Python program that uses Hive partitioning to create a partitioned table named \"Sales_Data\" based on the \"year\" and \"month\" columns.\n",
    "7.  Develop a Python script that adds a new column named \"email\" of type string to an existing Hive table named \"Employees.\"\n",
    "8.  Create a Python program that performs an inner join between two Hive tables, \"Orders\" and \"Customers,\" based on a common column.\n",
    "9.  Implement a Python program that uses the Hive SerDe library to process JSON data stored in a Hive table named \"User_Activity_Logs.\"\n",
    "\n",
    "\n",
    "\n"
   ]
  },
  {
   "cell_type": "markdown",
   "id": "26de9c15-2cbc-4e24-be26-cbf4ad6f5a6f",
   "metadata": {},
   "source": [
    "Create a table named \"Employees\" with columns for \"id,\" \"name,\" and \"salary\" using HiveQL:"
   ]
  },
  {
   "cell_type": "markdown",
   "id": "fe97350c-40cd-42d0-90b5-e65c7e190fde",
   "metadata": {},
   "source": [
    "from pyhive import hive\n",
    "\n",
    "# Establish a connection to the Hive server\n",
    "conn = hive.Connection(host=\"localhost\", port=10000, username=\"your_username\")\n",
    "\n",
    "# Create the \"Employees\" table\n",
    "query = \"\"\"\n",
    "CREATE TABLE Employees (\n",
    "    id INT,\n",
    "    name STRING,\n",
    "    salary FLOAT\n",
    ")\n",
    "\"\"\"\n",
    "cursor = conn.cursor()\n",
    "cursor.execute(query)\n",
    "\n",
    "# Close the connection\n",
    "conn.close()\n"
   ]
  },
  {
   "cell_type": "markdown",
   "id": "65b9543b-22aa-499e-9883-a8ee4b07807f",
   "metadata": {},
   "source": [
    "Retrieve records from a Hive table named \"Customers\" where the age is greater than 30:"
   ]
  },
  {
   "cell_type": "markdown",
   "id": "7a5d6740-9690-4f49-b699-c821b3a7b2e8",
   "metadata": {},
   "source": [
    "from pyhive import hive\n",
    "\n",
    "# Establish a connection to the Hive server\n",
    "conn = hive.Connection(host=\"localhost\", port=10000, username=\"your_username\")\n",
    "\n",
    "# Retrieve records where age > 30 from the \"Customers\" table\n",
    "query = \"SELECT * FROM Customers WHERE age > 30\"\n",
    "cursor = conn.cursor()\n",
    "cursor.execute(query)\n",
    "\n",
    "# Fetch and print the results\n",
    "results = cursor.fetchall()\n",
    "for row in results:\n",
    "    print(row)\n",
    "\n",
    "# Close the connection\n",
    "conn.close()\n"
   ]
  },
  {
   "cell_type": "markdown",
   "id": "59bf1701-dac3-4d26-9e6a-556746bf2f00",
   "metadata": {},
   "source": [
    "Sort records in descending order based on the \"timestamp\" column in a Hive table named \"Logs\":"
   ]
  },
  {
   "cell_type": "markdown",
   "id": "bb935b71-1fef-41d6-9097-ae802870e5c2",
   "metadata": {},
   "source": [
    "from pyhive import hive\n",
    "\n",
    "# Establish a connection to the Hive server\n",
    "conn = hive.Connection(host=\"localhost\", port=10000, username=\"your_username\")\n",
    "\n",
    "# Sort records in descending order based on \"timestamp\" column\n",
    "query = \"SELECT * FROM Logs ORDER BY timestamp DESC\"\n",
    "cursor = conn.cursor()\n",
    "cursor.execute(query)\n",
    "\n",
    "# Fetch and print the results\n",
    "results = cursor.fetchall()\n",
    "for row in results:\n",
    "    print(row)\n",
    "\n",
    "# Close the connection\n",
    "conn.close()\n"
   ]
  },
  {
   "cell_type": "markdown",
   "id": "9a4b61f5-955d-4825-9ef3-f85a47fadda5",
   "metadata": {},
   "source": [
    "Connect to a Hive server using PyHive library and retrieve all records from a table named \"Products\":"
   ]
  },
  {
   "cell_type": "markdown",
   "id": "d01eb4ea-eff3-4291-bda8-8d6b181f91a8",
   "metadata": {},
   "source": [
    "from pyhive import hive\n",
    "\n",
    "# Establish a connection to the Hive server\n",
    "conn = hive.Connection(host=\"localhost\", port=10000, username=\"your_username\")\n",
    "\n",
    "# Retrieve all records from the \"Products\" table\n",
    "query = \"SELECT * FROM Products\"\n",
    "cursor = conn.cursor()\n",
    "cursor.execute(query)\n",
    "\n",
    "# Fetch and print the results\n",
    "results = cursor.fetchall()\n",
    "for row in results:\n",
    "    print(row)\n",
    "\n",
    "# Close the connection\n",
    "conn.close()\n"
   ]
  },
  {
   "cell_type": "markdown",
   "id": "bce223be-d359-41d4-ba90-e818f6109f3e",
   "metadata": {},
   "source": [
    "Calculate the average salary of employees from a Hive table named \"Employees\""
   ]
  },
  {
   "cell_type": "markdown",
   "id": "9c4b0a79-f138-46e8-90e6-4ac4fe00eb10",
   "metadata": {},
   "source": [
    "from pyhive import hive\n",
    "\n",
    "# Establish a connection to the Hive server\n",
    "conn = hive.Connection(host=\"localhost\", port=10000, username=\"your_username\")\n",
    "\n",
    "# Calculate the average salary of employees\n",
    "query = \"SELECT AVG(salary) FROM Employees\"\n",
    "cursor = conn.cursor()\n",
    "cursor.execute(query)\n",
    "\n",
    "# Fetch the result\n",
    "result = cursor.fetchone()\n",
    "\n",
    "# Print the average salary\n",
    "print(\"Average Salary:\", result[0])\n",
    "\n",
    "# Close the connection\n",
    "conn.close()\n"
   ]
  },
  {
   "cell_type": "markdown",
   "id": "a34cd67c-a5d2-44ae-94dc-dc5b7e7cf438",
   "metadata": {},
   "source": [
    "Use Hive partitioning to create a partitioned table named \"Sales_Data\" based on the \"year\" and \"month\" columns:"
   ]
  },
  {
   "cell_type": "markdown",
   "id": "1a86a8d1-a2de-47bd-98de-514559a0926e",
   "metadata": {},
   "source": [
    "from pyhive import hive\n",
    "\n",
    "# Establish a connection to the Hive server\n",
    "conn = hive.Connection(host=\"localhost\", port=10000, username=\"your_username\")\n",
    "\n",
    "# Create the partitioned table \"Sales_Data\" with partition columns \"year\" and \"month\"\n",
    "query = \"\"\"\n",
    "CREATE TABLE Sales_Data (\n",
    "    ...\n",
    ")\n",
    "PARTITIONED BY (year INT, month INT)\n",
    "\"\"\"\n",
    "cursor = conn.cursor()\n",
    "cursor.execute(query)\n",
    "\n",
    "# Close the connection\n",
    "conn.close()\n"
   ]
  },
  {
   "cell_type": "markdown",
   "id": "83dd2422-a7da-4760-ad9d-7ea1d535c697",
   "metadata": {},
   "source": [
    "Add a new column named \"email\" of type string to an existing Hive table named \"Employees\":"
   ]
  },
  {
   "cell_type": "markdown",
   "id": "a5c31159-0343-4396-98aa-1db6e8a2adb8",
   "metadata": {},
   "source": [
    "from pyhive import hive\n",
    "\n",
    "# Establish a connection to the Hive server\n",
    "conn = hive.Connection(host=\"localhost\", port=10000, username=\"your_username\")\n",
    "\n",
    "# Add a new column \"email\" of type string to the \"Employees\" table\n",
    "query = \"ALTER TABLE Employees ADD COLUMNS (email STRING)\"\n",
    "cursor = conn.cursor()\n",
    "cursor.execute(query)\n",
    "\n",
    "# Close the connection\n",
    "conn.close()\n"
   ]
  },
  {
   "cell_type": "markdown",
   "id": "464316fb-14b3-415a-9735-c705db29d4b7",
   "metadata": {},
   "source": [
    "Perform an inner join between two Hive tables, \"Orders\" and \"Customers,\" based on a common column:"
   ]
  },
  {
   "cell_type": "code",
   "execution_count": null,
   "id": "c5b6f9e8-22e8-401f-8424-219e5f380bcc",
   "metadata": {},
   "outputs": [],
   "source": []
  }
 ],
 "metadata": {
  "kernelspec": {
   "display_name": "Python 3 (ipykernel)",
   "language": "python",
   "name": "python3"
  },
  "language_info": {
   "codemirror_mode": {
    "name": "ipython",
    "version": 3
   },
   "file_extension": ".py",
   "mimetype": "text/x-python",
   "name": "python",
   "nbconvert_exporter": "python",
   "pygments_lexer": "ipython3",
   "version": "3.10.6"
  }
 },
 "nbformat": 4,
 "nbformat_minor": 5
}
